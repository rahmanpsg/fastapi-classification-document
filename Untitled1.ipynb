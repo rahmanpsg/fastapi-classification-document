{
 "cells": [
  {
   "cell_type": "code",
   "execution_count": 1,
   "id": "07295f33",
   "metadata": {},
   "outputs": [],
   "source": [
    "import numpy as np\n",
    "import pandas as pd\n",
    "import matplotlib.pyplot as plt\n",
    "import seaborn as sns\n",
    "\n",
    "import gensim\n",
    "from gensim.corpora.dictionary import Dictionary\n",
    "from gensim.models.tfidfmodel import TfidfModel\n",
    "from gensim.matutils import corpus2csc\n",
    "\n",
    "from sklearn.neighbors import NearestNeighbors\n",
    "from joblib import dump, load\n",
    "import re\n",
    "import string"
   ]
  },
  {
   "cell_type": "code",
   "execution_count": 2,
   "id": "f37f9233",
   "metadata": {},
   "outputs": [
    {
     "data": {
      "text/html": [
       "<div>\n",
       "<style scoped>\n",
       "    .dataframe tbody tr th:only-of-type {\n",
       "        vertical-align: middle;\n",
       "    }\n",
       "\n",
       "    .dataframe tbody tr th {\n",
       "        vertical-align: top;\n",
       "    }\n",
       "\n",
       "    .dataframe thead th {\n",
       "        text-align: right;\n",
       "    }\n",
       "</style>\n",
       "<table border=\"1\" class=\"dataframe\">\n",
       "  <thead>\n",
       "    <tr style=\"text-align: right;\">\n",
       "      <th></th>\n",
       "      <th>prodi</th>\n",
       "      <th>nim</th>\n",
       "      <th>nama</th>\n",
       "      <th>dokumen</th>\n",
       "    </tr>\n",
       "  </thead>\n",
       "  <tbody>\n",
       "    <tr>\n",
       "      <th>0</th>\n",
       "      <td>manajemen</td>\n",
       "      <td>215350030</td>\n",
       "      <td>Andi Adriani Paesal</td>\n",
       "      <td>1 jurnal economos feb um parepare pengaruh mot...</td>\n",
       "    </tr>\n",
       "    <tr>\n",
       "      <th>1</th>\n",
       "      <td>manajemen</td>\n",
       "      <td>215350034</td>\n",
       "      <td>Riskianti</td>\n",
       "      <td>efektivitas profitabilitas guna modal kerja pa...</td>\n",
       "    </tr>\n",
       "    <tr>\n",
       "      <th>2</th>\n",
       "      <td>manajemen</td>\n",
       "      <td>215350007</td>\n",
       "      <td>Iis Faradillah</td>\n",
       "      <td>1 jurnal economos feb um parepare draft templa...</td>\n",
       "    </tr>\n",
       "    <tr>\n",
       "      <th>3</th>\n",
       "      <td>manajemen</td>\n",
       "      <td>215350015</td>\n",
       "      <td>Ardiyanto</td>\n",
       "      <td>1 jurnal economos feb um parepare pengaruh bia...</td>\n",
       "    </tr>\n",
       "    <tr>\n",
       "      <th>4</th>\n",
       "      <td>pembangunan</td>\n",
       "      <td>213210027</td>\n",
       "      <td>Junaedi</td>\n",
       "      <td>evaluasi kerja badan rencana bangun daerah bap...</td>\n",
       "    </tr>\n",
       "  </tbody>\n",
       "</table>\n",
       "</div>"
      ],
      "text/plain": [
       "         prodi        nim                 nama  \\\n",
       "0    manajemen  215350030  Andi Adriani Paesal   \n",
       "1    manajemen  215350034            Riskianti   \n",
       "2    manajemen  215350007       Iis Faradillah   \n",
       "3    manajemen  215350015            Ardiyanto   \n",
       "4  pembangunan  213210027              Junaedi   \n",
       "\n",
       "                                             dokumen  \n",
       "0  1 jurnal economos feb um parepare pengaruh mot...  \n",
       "1  efektivitas profitabilitas guna modal kerja pa...  \n",
       "2  1 jurnal economos feb um parepare draft templa...  \n",
       "3  1 jurnal economos feb um parepare pengaruh bia...  \n",
       "4  evaluasi kerja badan rencana bangun daerah bap...  "
      ]
     },
     "execution_count": 2,
     "metadata": {},
     "output_type": "execute_result"
    }
   ],
   "source": [
    "df = pd.read_csv(\"data.csv\")\n",
    "\n",
    "df.head()"
   ]
  },
  {
   "cell_type": "code",
   "execution_count": 3,
   "id": "bf1dbddb",
   "metadata": {},
   "outputs": [],
   "source": [
    "## fungsi untuk menghapus url didalam teks\n",
    "def remove_URL(text):\n",
    "    url = re.compile(r\"https?://\\S+|www\\.\\S+\")\n",
    "    return url.sub(r\"\",text)\n",
    "\n",
    "## fungsi untuk menghapus tanda baca didalam teks\n",
    "def remove_punct(text):\n",
    "    translator = str.maketrans(\"\", \"\", string.punctuation)\n",
    "    return text.translate(translator)\n",
    "\n",
    "## fungsi untuk mengubah teks menjadi huruf kecil\n",
    "def case_folding(text):\n",
    "    return text.casefold()\n",
    "\n",
    "## stopwords\n",
    "from Sastrawi.StopWordRemover.StopWordRemoverFactory import StopWordRemoverFactory\n",
    "\n",
    "stopwords = StopWordRemoverFactory().create_stop_word_remover()\n",
    "\n",
    "def remove_stopwords(text):\n",
    "    return stopwords.remove(text)\n",
    "\n",
    "## stemming\n",
    "from Sastrawi.Stemmer.StemmerFactory import StemmerFactory\n",
    "\n",
    "stemmer = StemmerFactory().create_stemmer()\n",
    "\n",
    "def stemming(text):\n",
    "    return stemmer.stem(text)\n",
    "\n",
    "def preprocessing(text):\n",
    "    text = remove_URL(text)\n",
    "    text = remove_punct(text)\n",
    "    text = case_folding(text)\n",
    "    text = remove_stopwords(text)\n",
    "    text = stemming(text)\n",
    "\n",
    "    print(text)\n",
    "    return text"
   ]
  },
  {
   "cell_type": "code",
   "execution_count": 32,
   "id": "7e8fb801",
   "metadata": {},
   "outputs": [],
   "source": [
    "from tqdm.auto import tqdm as tqdmp\n",
    "tqdmp.pandas()\n",
    "import re, unicodedata, string"
   ]
  },
  {
   "cell_type": "code",
   "execution_count": 5,
   "id": "72bb30f4",
   "metadata": {},
   "outputs": [],
   "source": [
    "def text_cleaner(text):\n",
    "    \"\"\"\n",
    "    Function for cleaning text data from unnecessary characters.\n",
    "    \"\"\"\n",
    "    text = text.lower()\n",
    "    text = unicodedata.normalize('NFKD', text).encode('ascii', 'ignore').decode('utf-8', 'ignore')\n",
    "    text = re.sub('\\[.*?\\]', ' ', text)\n",
    "    text = re.sub('https?://\\S+|www\\.\\S+', '', text)\n",
    "    text = re.sub('<.*?>+', '', text)\n",
    "    text = re.sub('[%s]' % re.escape(string.punctuation), '', text)\n",
    "    text = re.sub('\\n', ' ', text)\n",
    "    text = re.sub('\\r', '', text)\n",
    "    text = re.sub('\\w*\\d\\w*', '', text)\n",
    "    return text"
   ]
  },
  {
   "cell_type": "code",
   "execution_count": 6,
   "id": "d1a58477",
   "metadata": {},
   "outputs": [
    {
     "name": "stderr",
     "output_type": "stream",
     "text": [
      "100%|██████| 71/71 [00:00<00:00, 353.44it/s]\n"
     ]
    },
    {
     "data": {
      "text/plain": [
       "0    [jurnal, economos, feb, um, parepare, pengaruh...\n",
       "1    [efektivitas, profitabilitas, guna, modal, ker...\n",
       "2    [jurnal, economos, feb, um, parepare, draft, t...\n",
       "3    [jurnal, economos, feb, um, parepare, pengaruh...\n",
       "4    [evaluasi, kerja, badan, rencana, bangun, daer...\n",
       "Name: dokumen, dtype: object"
      ]
     },
     "execution_count": 6,
     "metadata": {},
     "output_type": "execute_result"
    }
   ],
   "source": [
    "dokumen_cleaned = df.dokumen.dropna().reset_index(drop = True)\n",
    "dokumen_cleaned = dokumen_cleaned.progress_apply(lambda x: text_cleaner(x).split())\n",
    "dokumen_cleaned.head()"
   ]
  },
  {
   "cell_type": "code",
   "execution_count": 7,
   "id": "5090065e",
   "metadata": {},
   "outputs": [],
   "source": [
    "dictionary = Dictionary(dokumen_cleaned)\n",
    "num_docs = dictionary.num_docs\n",
    "num_terms = len(dictionary.keys())"
   ]
  },
  {
   "cell_type": "code",
   "execution_count": 8,
   "id": "3c82726d",
   "metadata": {},
   "outputs": [],
   "source": [
    "# the bag of words corpus\n",
    "corpus_bow = [dictionary.doc2bow(doc) for doc in dokumen_cleaned]"
   ]
  },
  {
   "cell_type": "code",
   "execution_count": 9,
   "id": "6c884f56",
   "metadata": {},
   "outputs": [],
   "source": [
    "tfidf = TfidfModel(corpus_bow)\n",
    "corpus_tfidf = tfidf[corpus_bow]"
   ]
  },
  {
   "cell_type": "code",
   "execution_count": 10,
   "id": "a5559ebb",
   "metadata": {},
   "outputs": [],
   "source": [
    "corpus_tfidf_sparse = corpus2csc(corpus_tfidf, num_terms, num_docs=num_docs).T"
   ]
  },
  {
   "cell_type": "code",
   "execution_count": 42,
   "id": "09e11007",
   "metadata": {},
   "outputs": [
    {
     "data": {
      "text/plain": [
       "NearestNeighbors(n_jobs=-1)"
      ]
     },
     "execution_count": 42,
     "metadata": {},
     "output_type": "execute_result"
    }
   ],
   "source": [
    "model = NearestNeighbors(n_neighbors = 5, n_jobs=-1)\n",
    "model.fit(corpus_tfidf_sparse)"
   ]
  },
  {
   "cell_type": "code",
   "execution_count": 43,
   "id": "e9fcb219",
   "metadata": {},
   "outputs": [
    {
     "data": {
      "text/html": [
       "<div>\n",
       "<style scoped>\n",
       "    .dataframe tbody tr th:only-of-type {\n",
       "        vertical-align: middle;\n",
       "    }\n",
       "\n",
       "    .dataframe tbody tr th {\n",
       "        vertical-align: top;\n",
       "    }\n",
       "\n",
       "    .dataframe thead th {\n",
       "        text-align: right;\n",
       "    }\n",
       "</style>\n",
       "<table border=\"1\" class=\"dataframe\">\n",
       "  <thead>\n",
       "    <tr style=\"text-align: right;\">\n",
       "      <th></th>\n",
       "      <th>prodi</th>\n",
       "      <th>nim</th>\n",
       "      <th>nama</th>\n",
       "      <th>dokumen</th>\n",
       "      <th>jarak</th>\n",
       "    </tr>\n",
       "  </thead>\n",
       "  <tbody>\n",
       "    <tr>\n",
       "      <th>16</th>\n",
       "      <td>informatika</td>\n",
       "      <td>210280018</td>\n",
       "      <td>Muhalis</td>\n",
       "      <td>putus daya kwh meter guna komunikasi seluler m...</td>\n",
       "      <td>1.095743</td>\n",
       "    </tr>\n",
       "    <tr>\n",
       "      <th>22</th>\n",
       "      <td>sipil</td>\n",
       "      <td>207190004</td>\n",
       "      <td>Abd Samad Syamsuddin</td>\n",
       "      <td>NaN</td>\n",
       "      <td>1.405725</td>\n",
       "    </tr>\n",
       "    <tr>\n",
       "      <th>56</th>\n",
       "      <td>akk</td>\n",
       "      <td>213240058</td>\n",
       "      <td>Nurul Ilma AKK</td>\n",
       "      <td>perilaku warga masyarakat kelola sampah rumah ...</td>\n",
       "      <td>1.411790</td>\n",
       "    </tr>\n",
       "    <tr>\n",
       "      <th>61</th>\n",
       "      <td>epid</td>\n",
       "      <td>213240024</td>\n",
       "      <td>Hasrun EPID</td>\n",
       "      <td>hubung tingkat tahu perilaku jadi karies gigi ...</td>\n",
       "      <td>1.412159</td>\n",
       "    </tr>\n",
       "    <tr>\n",
       "      <th>25</th>\n",
       "      <td>elektro</td>\n",
       "      <td>209180044</td>\n",
       "      <td>Aswan</td>\n",
       "      <td>timbang berat harga digital basis mikrokontrol...</td>\n",
       "      <td>1.412412</td>\n",
       "    </tr>\n",
       "  </tbody>\n",
       "</table>\n",
       "</div>"
      ],
      "text/plain": [
       "          prodi        nim                  nama  \\\n",
       "16  informatika  210280018               Muhalis   \n",
       "22        sipil  207190004  Abd Samad Syamsuddin   \n",
       "56          akk  213240058        Nurul Ilma AKK   \n",
       "61         epid  213240024           Hasrun EPID   \n",
       "25      elektro  209180044                 Aswan   \n",
       "\n",
       "                                              dokumen     jarak  \n",
       "16  putus daya kwh meter guna komunikasi seluler m...  1.095743  \n",
       "22                                                NaN  1.405725  \n",
       "56  perilaku warga masyarakat kelola sampah rumah ...  1.411790  \n",
       "61  hubung tingkat tahu perilaku jadi karies gigi ...  1.412159  \n",
       "25  timbang berat harga digital basis mikrokontrol...  1.412412  "
      ]
     },
     "execution_count": 43,
     "metadata": {},
     "output_type": "execute_result"
    }
   ],
   "source": [
    "teks = \"KWH (Kilowatt-Hour) meter adalah kumparan tengangan\"\n",
    "\n",
    "test_dokumen = pd.DataFrame({\"dokumen\": [teks]})\n",
    "test_dokumen = test_dokumen.dokumen.dropna().reset_index(drop = True)\n",
    "test_dokumen = test_dokumen.apply(lambda x: text_cleaner(x).split())\n",
    "\n",
    "# test corpus from created dictionary\n",
    "test_corpus_bow = [dictionary.doc2bow(doc) for doc in test_dokumen]\n",
    "\n",
    "# test tfidf values from created tfidf model\n",
    "test_corpus_tfidf = tfidf[test_corpus_bow]\n",
    "\n",
    "# test sparse matrix\n",
    "test_corpus_tfidf_sparse = corpus2csc(test_corpus_tfidf, num_terms).T\n",
    "\n",
    "distances, indices = model.kneighbors(test_corpus_tfidf_sparse)\n",
    "\n",
    "df_hasil = df.loc[indices[0]]    \n",
    "df_hasil['jarak'] = distances[0]\n",
    "    \n",
    "df_hasil   "
   ]
  },
  {
   "cell_type": "code",
   "execution_count": null,
   "id": "46e87479",
   "metadata": {},
   "outputs": [],
   "source": []
  }
 ],
 "metadata": {
  "kernelspec": {
   "display_name": "Python 3 (ipykernel)",
   "language": "python",
   "name": "python3"
  },
  "language_info": {
   "codemirror_mode": {
    "name": "ipython",
    "version": 3
   },
   "file_extension": ".py",
   "mimetype": "text/x-python",
   "name": "python",
   "nbconvert_exporter": "python",
   "pygments_lexer": "ipython3",
   "version": "3.9.12"
  }
 },
 "nbformat": 4,
 "nbformat_minor": 5
}
