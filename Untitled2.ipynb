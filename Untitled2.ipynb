{
 "cells": [
  {
   "cell_type": "code",
   "execution_count": 1,
   "id": "42a0e7ae",
   "metadata": {},
   "outputs": [],
   "source": [
    "import pandas as pd\n",
    "from sklearn.neighbors import NearestNeighbors\n",
    "from sklearn.feature_extraction.text import CountVectorizer, TfidfTransformer"
   ]
  },
  {
   "cell_type": "code",
   "execution_count": 2,
   "id": "d23dc62a",
   "metadata": {},
   "outputs": [
    {
     "data": {
      "text/html": [
       "<div>\n",
       "<style scoped>\n",
       "    .dataframe tbody tr th:only-of-type {\n",
       "        vertical-align: middle;\n",
       "    }\n",
       "\n",
       "    .dataframe tbody tr th {\n",
       "        vertical-align: top;\n",
       "    }\n",
       "\n",
       "    .dataframe thead th {\n",
       "        text-align: right;\n",
       "    }\n",
       "</style>\n",
       "<table border=\"1\" class=\"dataframe\">\n",
       "  <thead>\n",
       "    <tr style=\"text-align: right;\">\n",
       "      <th></th>\n",
       "      <th>prodi</th>\n",
       "      <th>nim</th>\n",
       "      <th>nama</th>\n",
       "      <th>dokumen</th>\n",
       "    </tr>\n",
       "  </thead>\n",
       "  <tbody>\n",
       "    <tr>\n",
       "      <th>0</th>\n",
       "      <td>manajemen</td>\n",
       "      <td>215350030</td>\n",
       "      <td>Andi Adriani Paesal</td>\n",
       "      <td>1 jurnal economos feb um parepare pengaruh mot...</td>\n",
       "    </tr>\n",
       "    <tr>\n",
       "      <th>1</th>\n",
       "      <td>manajemen</td>\n",
       "      <td>215350034</td>\n",
       "      <td>Riskianti</td>\n",
       "      <td>efektivitas profitabilitas guna modal kerja pa...</td>\n",
       "    </tr>\n",
       "    <tr>\n",
       "      <th>2</th>\n",
       "      <td>manajemen</td>\n",
       "      <td>215350007</td>\n",
       "      <td>Iis Faradillah</td>\n",
       "      <td>1 jurnal economos feb um parepare draft templa...</td>\n",
       "    </tr>\n",
       "    <tr>\n",
       "      <th>3</th>\n",
       "      <td>manajemen</td>\n",
       "      <td>215350015</td>\n",
       "      <td>Ardiyanto</td>\n",
       "      <td>1 jurnal economos feb um parepare pengaruh bia...</td>\n",
       "    </tr>\n",
       "    <tr>\n",
       "      <th>4</th>\n",
       "      <td>pembangunan</td>\n",
       "      <td>213210027</td>\n",
       "      <td>Junaedi</td>\n",
       "      <td>evaluasi kerja badan rencana bangun daerah bap...</td>\n",
       "    </tr>\n",
       "  </tbody>\n",
       "</table>\n",
       "</div>"
      ],
      "text/plain": [
       "         prodi        nim                 nama  \\\n",
       "0    manajemen  215350030  Andi Adriani Paesal   \n",
       "1    manajemen  215350034            Riskianti   \n",
       "2    manajemen  215350007       Iis Faradillah   \n",
       "3    manajemen  215350015            Ardiyanto   \n",
       "4  pembangunan  213210027              Junaedi   \n",
       "\n",
       "                                             dokumen  \n",
       "0  1 jurnal economos feb um parepare pengaruh mot...  \n",
       "1  efektivitas profitabilitas guna modal kerja pa...  \n",
       "2  1 jurnal economos feb um parepare draft templa...  \n",
       "3  1 jurnal economos feb um parepare pengaruh bia...  \n",
       "4  evaluasi kerja badan rencana bangun daerah bap...  "
      ]
     },
     "execution_count": 2,
     "metadata": {},
     "output_type": "execute_result"
    }
   ],
   "source": [
    "df = pd.read_csv(\"data.csv\")\n",
    "\n",
    "df.head()"
   ]
  },
  {
   "cell_type": "code",
   "execution_count": 5,
   "id": "3de6227d",
   "metadata": {},
   "outputs": [
    {
     "name": "stdout",
     "output_type": "stream",
     "text": [
      "  (0, 0)\t3\n",
      "  (0, 2)\t1\n",
      "  (0, 10)\t1\n",
      "  (0, 13)\t2\n",
      "  (0, 64)\t1\n",
      "  (0, 71)\t1\n",
      "  (0, 72)\t1\n",
      "  (0, 81)\t1\n",
      "  (0, 82)\t4\n",
      "  (0, 90)\t1\n",
      "  (0, 91)\t1\n",
      "  (0, 98)\t4\n",
      "  (0, 99)\t2\n",
      "  (0, 100)\t1\n",
      "  (0, 121)\t5\n",
      "  (0, 215)\t1\n",
      "  (0, 232)\t2\n",
      "  (0, 249)\t1\n",
      "  (0, 310)\t4\n",
      "  (0, 347)\t1\n",
      "  (0, 393)\t1\n",
      "  (0, 412)\t6\n",
      "  (0, 414)\t1\n",
      "  (0, 422)\t1\n",
      "  (0, 423)\t1\n",
      "  :\t:\n",
      "  (19, 7695)\t1\n",
      "  (19, 7696)\t1\n",
      "  (19, 7697)\t1\n",
      "  (19, 7698)\t1\n",
      "  (19, 7699)\t1\n",
      "  (19, 7700)\t1\n",
      "  (19, 7701)\t1\n",
      "  (19, 7702)\t1\n",
      "  (19, 7703)\t1\n",
      "  (19, 7704)\t1\n",
      "  (19, 7705)\t1\n",
      "  (19, 7706)\t1\n",
      "  (19, 7707)\t1\n",
      "  (19, 7708)\t1\n",
      "  (19, 7709)\t1\n",
      "  (19, 7710)\t1\n",
      "  (19, 7713)\t1\n",
      "  (19, 7715)\t1\n",
      "  (19, 7717)\t1\n",
      "  (19, 7726)\t1\n",
      "  (19, 7727)\t1\n",
      "  (19, 7729)\t1\n",
      "  (19, 7737)\t1\n",
      "  (19, 7742)\t1\n",
      "  (19, 7747)\t1\n"
     ]
    }
   ],
   "source": [
    "count_vect = CountVectorizer()\n",
    "X_train_counts = count_vect.fit_transform(df.dokumen[:20])\n",
    "tfidf_transformer = TfidfTransformer()\n",
    "X_train_tfidf = tfidf_transformer.fit_transform(X_train_counts)\n",
    "neigh = NearestNeighbors(n_neighbors=3, n_jobs=-1) \n",
    "neigh.fit(X_train_tfidf)\n",
    "\n",
    "print(X_train_counts)"
   ]
  },
  {
   "cell_type": "code",
   "execution_count": 4,
   "id": "ab79c75a",
   "metadata": {},
   "outputs": [
    {
     "data": {
      "text/plain": [
       "(array([[1.05692823, 1.38643708, 1.38671919]]), array([[16, 15,  9]]))"
      ]
     },
     "execution_count": 4,
     "metadata": {},
     "output_type": "execute_result"
    }
   ],
   "source": [
    "\n",
    "test=[\"jurnal daya kwh meter komunikasi\"]\n",
    "X_test_counts = count_vect.transform(test)\n",
    "\n",
    "X_test_tfidf = tfidf_transformer.transform(X_test_counts)\n",
    "\n",
    "res = neigh.kneighbors(X_test_tfidf)\n",
    "\n",
    "res"
   ]
  },
  {
   "cell_type": "code",
   "execution_count": null,
   "id": "efbb2f47",
   "metadata": {},
   "outputs": [],
   "source": []
  }
 ],
 "metadata": {
  "kernelspec": {
   "display_name": "Python 3 (ipykernel)",
   "language": "python",
   "name": "python3"
  },
  "language_info": {
   "codemirror_mode": {
    "name": "ipython",
    "version": 3
   },
   "file_extension": ".py",
   "mimetype": "text/x-python",
   "name": "python",
   "nbconvert_exporter": "python",
   "pygments_lexer": "ipython3",
   "version": "3.9.12"
  }
 },
 "nbformat": 4,
 "nbformat_minor": 5
}
