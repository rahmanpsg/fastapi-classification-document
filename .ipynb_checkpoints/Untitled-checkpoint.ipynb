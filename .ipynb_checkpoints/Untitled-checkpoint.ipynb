{
 "cells": [
  {
   "cell_type": "code",
   "execution_count": 1,
   "id": "553dd35a",
   "metadata": {},
   "outputs": [],
   "source": [
    "import nltk\n",
    "import string\n",
    "import os\n",
    "import PyPDF3\n",
    "import re\n",
    "import pandas as pd\n",
    "import numpy as np\n",
    "import pickle\n",
    "\n",
    "from sklearn.feature_extraction.text import TfidfVectorizer\n",
    "from sklearn.neighbors import NearestNeighbors\n",
    "from nltk.tokenize import word_tokenize\n",
    "from nltk.stem.porter import PorterStemmer\n",
    "import matplotlib.pyplot as plt"
   ]
  },
  {
   "cell_type": "code",
   "execution_count": 2,
   "id": "2a0d0187",
   "metadata": {},
   "outputs": [],
   "source": [
    "def tokenize(text):\n",
    "    tokens = nltk.word_tokenize(text)\n",
    "    stems = []\n",
    "    for item in tokens:\n",
    "        stems.append(PorterStemmer().stem(item))\n",
    "    return stems"
   ]
  },
  {
   "cell_type": "code",
   "execution_count": 3,
   "id": "a1885d47",
   "metadata": {},
   "outputs": [],
   "source": [
    "## fungsi untuk menghapus url didalam teks\n",
    "def remove_URL(text):\n",
    "    url = re.compile(r\"https?://\\S+|www\\.\\S+\")\n",
    "    return url.sub(r\"\",text)\n",
    "\n",
    "## fungsi untuk menghapus tanda baca didalam teks\n",
    "def remove_punct(text):\n",
    "    translator = str.maketrans(\"\", \"\", string.punctuation)\n",
    "    return text.translate(translator)\n",
    "\n",
    "## fungsi untuk mengubah teks menjadi huruf kecil\n",
    "def case_folding(text):\n",
    "    return text.casefold()"
   ]
  },
  {
   "cell_type": "code",
   "execution_count": 4,
   "id": "e84dcff9",
   "metadata": {},
   "outputs": [],
   "source": [
    "## stopwords\n",
    "from Sastrawi.StopWordRemover.StopWordRemoverFactory import StopWordRemoverFactory\n",
    "\n",
    "stopwords = StopWordRemoverFactory().create_stop_word_remover()\n",
    "\n",
    "def remove_stopwords(text):\n",
    "    return stopwords.remove(text)"
   ]
  },
  {
   "cell_type": "code",
   "execution_count": 5,
   "id": "33d57661",
   "metadata": {},
   "outputs": [],
   "source": [
    "## stemming\n",
    "from Sastrawi.Stemmer.StemmerFactory import StemmerFactory\n",
    "\n",
    "stemmer = StemmerFactory().create_stemmer()\n",
    "\n",
    "def stemming(text):\n",
    "    return stemmer.stem(text)"
   ]
  },
  {
   "cell_type": "code",
   "execution_count": 6,
   "id": "178c892f",
   "metadata": {},
   "outputs": [],
   "source": [
    "def preprocessing(text):\n",
    "    text = remove_URL(text)\n",
    "    text = remove_punct(text)\n",
    "    text = case_folding(text)\n",
    "    text = remove_stopwords(text)\n",
    "    text = stemming(text)\n",
    "\n",
    "    print(text)\n",
    "    return text"
   ]
  },
  {
   "cell_type": "code",
   "execution_count": 35,
   "id": "bd495fa7",
   "metadata": {},
   "outputs": [
    {
     "name": "stdout",
     "output_type": "stream",
     "text": [
      "./jurnal/ekonomi/manajemen\n",
      "215350030 Andi Adriani Paesal manajemen\n",
      "./jurnal/ekonomi/manajemen\n",
      "215350034 Riskianti manajemen\n",
      "./jurnal/ekonomi/manajemen\n",
      "215350007 Iis Faradillah manajemen\n",
      "./jurnal/ekonomi/manajemen\n",
      "215350015 Ardiyanto manajemen\n",
      "./jurnal/ekonomi/pembangunan\n",
      "213210027 Junaedi pembangunan\n",
      "gagal membaca dokumen\n",
      "./jurnal/ekonomi/pembangunan\n",
      "212210066 Hardianto pembangunan\n",
      "./jurnal/ekonomi/pembangunan\n",
      "213210001 Ridwan pembangunan\n",
      "./jurnal/ekonomi/pembangunan\n",
      "212210082 Herman pembangunan\n",
      "./jurnal/ekonomi/pembangunan\n",
      "212210084 Musjayadi pembangunan\n",
      "./jurnal/ekonomi/akuntansi\n",
      "210200170 Kaharuddin Amir akuntansi\n",
      "./jurnal/ekonomi/akuntansi\n",
      "210200065 Chaesar Brananta Ekasaputra akuntansi\n",
      "./jurnal/ekonomi/akuntansi\n",
      "210200006 Risnawati Musakkar akuntansi\n",
      "./jurnal/ekonomi/akuntansi\n",
      "211200033 ERWIN ALDRI akuntansi\n",
      "./jurnal/ekonomi/akuntansi\n",
      "211200033 Elwin Aldri akuntansi\n",
      "./jurnal/teknik/informatika\n",
      "210280152 Andi Ahmad Yani informatika\n",
      "./jurnal/teknik/informatika\n",
      "211280017 Aris Munandar informatika\n",
      "./jurnal/teknik/informatika\n",
      "210280018 Muhalis informatika\n",
      "./jurnal/teknik/informatika\n",
      "210280096 Sukarno informatika\n",
      "./jurnal/teknik/informatika\n",
      "210280163 Desy Kharisma informatika\n",
      "./jurnal/teknik/sipil\n",
      "206190229 Haerul saleh sipil\n",
      "./jurnal/teknik/sipil\n",
      "206190206-HABIBI HABIBI sipil\n",
      "./jurnal/teknik/sipil\n",
      "207190018 Mansur sipil\n",
      "./jurnal/teknik/sipil\n",
      "207190004 Abd Samad Syamsuddin sipil\n"
     ]
    },
    {
     "name": "stderr",
     "output_type": "stream",
     "text": [
      "PdfReadWarning: Superfluous whitespace found in object header b'29' b'0' [pdf.py:1790]\n",
      "PdfReadWarning: Superfluous whitespace found in object header b'48' b'0' [pdf.py:1790]\n",
      "PdfReadWarning: Superfluous whitespace found in object header b'51' b'0' [pdf.py:1790]\n",
      "PdfReadWarning: Superfluous whitespace found in object header b'54' b'0' [pdf.py:1790]\n",
      "PdfReadWarning: Superfluous whitespace found in object header b'90' b'0' [pdf.py:1790]\n",
      "PdfReadWarning: Superfluous whitespace found in object header b'93' b'0' [pdf.py:1790]\n",
      "PdfReadWarning: Superfluous whitespace found in object header b'96' b'0' [pdf.py:1790]\n",
      "PdfReadWarning: Superfluous whitespace found in object header b'99' b'0' [pdf.py:1790]\n",
      "PdfReadWarning: Superfluous whitespace found in object header b'40' b'0' [pdf.py:1790]\n",
      "PdfReadWarning: Superfluous whitespace found in object header b'62' b'0' [pdf.py:1790]\n"
     ]
    },
    {
     "name": "stdout",
     "output_type": "stream",
     "text": [
      "./jurnal/teknik/sipil\n",
      "207190011 Iqbal sipil\n"
     ]
    },
    {
     "name": "stderr",
     "output_type": "stream",
     "text": [
      "PdfReadWarning: Superfluous whitespace found in object header b'65' b'0' [pdf.py:1790]\n",
      "PdfReadWarning: Superfluous whitespace found in object header b'68' b'0' [pdf.py:1790]\n"
     ]
    },
    {
     "name": "stdout",
     "output_type": "stream",
     "text": [
      "./jurnal/teknik/elektro\n",
      "208180015 Edy Muhadir elektro\n",
      "./jurnal/teknik/elektro\n",
      "209180044 Aswan elektro\n",
      "./jurnal/teknik/elektro\n",
      "211180003 Abd Mannah HS elektro\n",
      "./jurnal/teknik/elektro\n",
      "209180055 Jamal elektro\n",
      "./jurnal/teknik/elektro\n",
      "211180020 Aris. A elektro\n",
      "./jurnal/fkip/matematika\n",
      "212120096 Nur Faisah Muhitha matematika\n",
      "./jurnal/fkip/matematika\n",
      "212120159 Indrawaty Muhbang matematika\n",
      "./jurnal/fkip/matematika\n",
      "211200209 Ramlah matematika\n",
      "./jurnal/fkip/matematika\n",
      "212120075 Mutmainnah matematika\n",
      "./jurnal/fkip/matematika\n",
      "211200093 Riri Agustina matematika\n",
      "./jurnal/fkip/biologi\n",
      "213330011 Astrida Jafar biologi\n",
      "./jurnal/fkip/biologi\n",
      "213330028 Muhammad Yusran Mustafa biologi\n",
      "./jurnal/fkip/biologi\n",
      "213330031 Gian Rahmatullah Rusli biologi\n",
      "./jurnal/fkip/biologi\n",
      "213330016 Musdalifa Syamsuddin biologi\n",
      "./jurnal/fkip/biologi\n",
      "213330025 Husnul Khatimah biologi\n",
      "./jurnal/fkip/pls\n",
      "213130091 Nurfadilah pls\n",
      "./jurnal/fkip/pls\n",
      "213130026 Masyita pls\n",
      "./jurnal/fkip/pls\n",
      "213130027 Nurhayati pls\n",
      "./jurnal/fkip/pls\n",
      "213130032 Rosdaya pls\n",
      "./jurnal/fkip/pls\n",
      "211130028 Haerunnisa pls\n",
      "./jurnal/fkip/bahasa indonesia\n",
      "209110135 Atika Nurmala Dewi bahasa indonesia\n",
      "./jurnal/fkip/bahasa indonesia\n",
      "211110033 Andi Achmad Afandi bahasa indonesia\n",
      "./jurnal/fkip/bahasa indonesia\n",
      "211110174 Abd. Halid bahasa indonesia\n",
      "./jurnal/fkip/bahasa indonesia\n",
      "209110145 Fitriana Jurna bahasa indonesia\n"
     ]
    },
    {
     "name": "stderr",
     "output_type": "stream",
     "text": [
      "PdfReadWarning: Superfluous whitespace found in object header b'36' b'0' [pdf.py:1790]\n",
      "PdfReadWarning: Superfluous whitespace found in object header b'55' b'0' [pdf.py:1790]\n",
      "PdfReadWarning: Superfluous whitespace found in object header b'58' b'0' [pdf.py:1790]\n",
      "PdfReadWarning: Superfluous whitespace found in object header b'69' b'0' [pdf.py:1790]\n",
      "PdfReadWarning: Superfluous whitespace found in object header b'72' b'0' [pdf.py:1790]\n",
      "PdfReadWarning: Superfluous whitespace found in object header b'75' b'0' [pdf.py:1790]\n",
      "PdfReadWarning: Superfluous whitespace found in object header b'84' b'0' [pdf.py:1790]\n",
      "PdfReadWarning: Superfluous whitespace found in object header b'87' b'0' [pdf.py:1790]\n",
      "PdfReadWarning: Superfluous whitespace found in object header b'106' b'0' [pdf.py:1790]\n",
      "PdfReadWarning: Superfluous whitespace found in object header b'109' b'0' [pdf.py:1790]\n",
      "PdfReadWarning: Superfluous whitespace found in object header b'112' b'0' [pdf.py:1790]\n",
      "PdfReadWarning: Superfluous whitespace found in object header b'115' b'0' [pdf.py:1790]\n",
      "PdfReadWarning: Superfluous whitespace found in object header b'118' b'0' [pdf.py:1790]\n",
      "PdfReadWarning: Superfluous whitespace found in object header b'121' b'0' [pdf.py:1790]\n"
     ]
    },
    {
     "name": "stdout",
     "output_type": "stream",
     "text": [
      "./jurnal/fkip/bahasa indonesia\n",
      "211110099 Andri bahasa indonesia\n",
      "./jurnal/hukum\n",
      "215360002 YULITA hukum\n",
      "./jurnal/hukum\n",
      "215360001 Muh. Ashar hukum\n",
      "./jurnal/hukum\n",
      "215360003 mustakim  hukum\n",
      "./jurnal/hukum\n",
      "215360024 Sucito trihatmojo hukum\n",
      "./jurnal/hukum\n",
      "215360007 Asrul Hidayat hukum\n",
      "./jurnal/fikes/akk\n",
      "213240003 Hardianti Merdekawati B AKK akk\n",
      "./jurnal/fikes/akk\n",
      "212240158 Muh. Haikal Azwar AKK akk\n",
      "./jurnal/fikes/akk\n",
      "213240058 Nurul Ilma AKK akk\n",
      "./jurnal/fikes/akk\n",
      "213240074 Muh Ilyas AKK akk\n",
      "./jurnal/fikes/akk\n",
      "21524035 ndi Dermawan Putra AKK akk\n",
      "./jurnal/fikes/epid\n",
      "213240095 Hajratul Aswad EPID epid\n",
      "./jurnal/fikes/epid\n",
      "214240028 Elmayanti EPID epid\n",
      "./jurnal/fikes/epid\n",
      "213240024 Hasrun EPID epid\n",
      "./jurnal/fikes/epid\n",
      "214240012 Nurfadillah Zam Epid epid\n",
      "./jurnal/fikes/epid\n",
      "214240031 Yeyen ariaty EPID epid\n",
      "./jurnal/fikes/kesling\n",
      "213240102 Suci Ramadani KESLING kesling\n",
      "./jurnal/fikes/kesling\n",
      "212240106 Rahmat Hidayat Kesling kesling\n",
      "./jurnal/fikes/kesling\n",
      "213240028 Nurhuda A kesling\n",
      "./jurnal/fikes/kesling\n",
      "211240078 Anggara Burhan Rani KESLING kesling\n",
      "./jurnal/fikes/kesling\n",
      "209240145 Sofyan Kesling kesling\n",
      "./jurnal/fikes/gizi\n",
      "214240051 Suriana Jurn gizi\n",
      "./jurnal/fikes/gizi\n",
      "214240019 Dewi Astuti GIZI gizi\n",
      "./jurnal/fikes/gizi\n",
      "213240153 Iis Sulastry GIZI gizi\n",
      "./jurnal/fikes/gizi\n",
      "211240153 Karlina Kahar GIZI gizi\n",
      "./jurnal/fikes/gizi\n",
      "214240059 Nur Annisa Resky gizi gizi\n"
     ]
    }
   ],
   "source": [
    "path = './jurnal'\n",
    "token_dict = {}\n",
    "\n",
    "\n",
    "documents = []\n",
    "texts = []\n",
    "\n",
    "data = {\"prodi\":[], \"nim\": [], \"nama\": [], \"dokumen\": []}\n",
    "\n",
    "for dirpath, dirs, files in os.walk(path):\n",
    "    for f in files:\n",
    "        fname = os.path.join(dirpath, f)       \n",
    "        \n",
    "        fileName = fname.split(\"/\")[-1]\n",
    "        \n",
    "        nim = fileName.split(\" \")[0]\n",
    "        nama = fileName[10:-11]\n",
    "        prodi = fname.split(\"/\")[-2]         \n",
    "                \n",
    "        print(nim, nama, prodi)\n",
    "        \n",
    "        jurnalFile = open(fname, 'rb')      \n",
    "        \n",
    "        pdfReader = PyPDF3.PdfFileReader(jurnalFile)\n",
    "        \n",
    "        dokumen = \"\"\n",
    "\n",
    "        for page in pdfReader.pages:\n",
    "            try:\n",
    "                dokumen += page.extractText().replace(\"\\n\", \"\")\n",
    "            except:\n",
    "                print(\"gagal membaca dokumen\")\n",
    "\n",
    "        jurnalFile.close()\n",
    "\n",
    "        data['prodi'].append(prodi)\n",
    "        data['nim'].append(nim)\n",
    "        data['nama'].append(nama) \n",
    "        data['dokumen'].append(dokumen)\n",
    "\n"
   ]
  },
  {
   "cell_type": "code",
   "execution_count": 37,
   "id": "1caf7c1a",
   "metadata": {},
   "outputs": [
    {
     "data": {
      "text/html": [
       "<div>\n",
       "<style scoped>\n",
       "    .dataframe tbody tr th:only-of-type {\n",
       "        vertical-align: middle;\n",
       "    }\n",
       "\n",
       "    .dataframe tbody tr th {\n",
       "        vertical-align: top;\n",
       "    }\n",
       "\n",
       "    .dataframe thead th {\n",
       "        text-align: right;\n",
       "    }\n",
       "</style>\n",
       "<table border=\"1\" class=\"dataframe\">\n",
       "  <thead>\n",
       "    <tr style=\"text-align: right;\">\n",
       "      <th></th>\n",
       "      <th>prodi</th>\n",
       "      <th>nim</th>\n",
       "      <th>nama</th>\n",
       "      <th>dokumen</th>\n",
       "    </tr>\n",
       "  </thead>\n",
       "  <tbody>\n",
       "    <tr>\n",
       "      <th>0</th>\n",
       "      <td>manajemen</td>\n",
       "      <td>215350030</td>\n",
       "      <td>Andi Adriani Paesal</td>\n",
       "      <td>1 | Jurnal Economos FEB UM Parepare PENGARUH M...</td>\n",
       "    </tr>\n",
       "    <tr>\n",
       "      <th>1</th>\n",
       "      <td>manajemen</td>\n",
       "      <td>215350034</td>\n",
       "      <td>Riskianti</td>\n",
       "      <td>EFEKTIVITAS PROFITABILITAS TERHADAP PENGGUNAAN...</td>\n",
       "    </tr>\n",
       "    <tr>\n",
       "      <th>2</th>\n",
       "      <td>manajemen</td>\n",
       "      <td>215350007</td>\n",
       "      <td>Iis Faradillah</td>\n",
       "      <td>1 | Jurnal Economos FEB UM Parepare     Draft ...</td>\n",
       "    </tr>\n",
       "    <tr>\n",
       "      <th>3</th>\n",
       "      <td>manajemen</td>\n",
       "      <td>215350015</td>\n",
       "      <td>Ardiyanto</td>\n",
       "      <td>1 | Jurnal Economos FEB UM Parepare  PENGARUH ...</td>\n",
       "    </tr>\n",
       "    <tr>\n",
       "      <th>4</th>\n",
       "      <td>pembangunan</td>\n",
       "      <td>213210027</td>\n",
       "      <td>Junaedi</td>\n",
       "      <td>EVALUASI KINERJA BADAN PERENCANAAN PEMBANGUN...</td>\n",
       "    </tr>\n",
       "  </tbody>\n",
       "</table>\n",
       "</div>"
      ],
      "text/plain": [
       "         prodi        nim                 nama  \\\n",
       "0    manajemen  215350030  Andi Adriani Paesal   \n",
       "1    manajemen  215350034            Riskianti   \n",
       "2    manajemen  215350007       Iis Faradillah   \n",
       "3    manajemen  215350015            Ardiyanto   \n",
       "4  pembangunan  213210027              Junaedi   \n",
       "\n",
       "                                             dokumen  \n",
       "0  1 | Jurnal Economos FEB UM Parepare PENGARUH M...  \n",
       "1  EFEKTIVITAS PROFITABILITAS TERHADAP PENGGUNAAN...  \n",
       "2  1 | Jurnal Economos FEB UM Parepare     Draft ...  \n",
       "3  1 | Jurnal Economos FEB UM Parepare  PENGARUH ...  \n",
       "4    EVALUASI KINERJA BADAN PERENCANAAN PEMBANGUN...  "
      ]
     },
     "execution_count": 37,
     "metadata": {},
     "output_type": "execute_result"
    }
   ],
   "source": [
    "df = pd.DataFrame(data)\n",
    "\n",
    "df.head()"
   ]
  },
  {
   "cell_type": "code",
   "execution_count": null,
   "id": "5f39174b",
   "metadata": {},
   "outputs": [],
   "source": [
    "df['dokumen'] = [preprocessing(text) for text in df['dokumen']]\n",
    "\n",
    "df['dokumen']"
   ]
  },
  {
   "cell_type": "code",
   "execution_count": 11,
   "id": "d9272644",
   "metadata": {},
   "outputs": [
    {
     "data": {
      "text/html": [
       "<div>\n",
       "<style scoped>\n",
       "    .dataframe tbody tr th:only-of-type {\n",
       "        vertical-align: middle;\n",
       "    }\n",
       "\n",
       "    .dataframe tbody tr th {\n",
       "        vertical-align: top;\n",
       "    }\n",
       "\n",
       "    .dataframe thead th {\n",
       "        text-align: right;\n",
       "    }\n",
       "</style>\n",
       "<table border=\"1\" class=\"dataframe\">\n",
       "  <thead>\n",
       "    <tr style=\"text-align: right;\">\n",
       "      <th></th>\n",
       "      <th>document</th>\n",
       "      <th>text</th>\n",
       "    </tr>\n",
       "  </thead>\n",
       "  <tbody>\n",
       "    <tr>\n",
       "      <th>0</th>\n",
       "      <td>210280018 Muhalis jurnal</td>\n",
       "      <td>putus daya kwh meter guna komunikasi seluler m...</td>\n",
       "    </tr>\n",
       "    <tr>\n",
       "      <th>1</th>\n",
       "      <td>206190206-HABIBI Jurnal</td>\n",
       "      <td>jurnal teknik sipil umpar september 16 2016 ha...</td>\n",
       "    </tr>\n",
       "    <tr>\n",
       "      <th>2</th>\n",
       "      <td>210200006 Risnawati Musakkar jurnal</td>\n",
       "      <td>55 faktorfaktor kualitas informasi pengaruh la...</td>\n",
       "    </tr>\n",
       "    <tr>\n",
       "      <th>3</th>\n",
       "      <td>208180015 Edy Muhadir Jurnal</td>\n",
       "      <td>jurnal ancang sistem kontrol frekuensi atur ce...</td>\n",
       "    </tr>\n",
       "  </tbody>\n",
       "</table>\n",
       "</div>"
      ],
      "text/plain": [
       "                              document  \\\n",
       "0             210280018 Muhalis jurnal   \n",
       "1              206190206-HABIBI Jurnal   \n",
       "2  210200006 Risnawati Musakkar jurnal   \n",
       "3         208180015 Edy Muhadir Jurnal   \n",
       "\n",
       "                                                text  \n",
       "0  putus daya kwh meter guna komunikasi seluler m...  \n",
       "1  jurnal teknik sipil umpar september 16 2016 ha...  \n",
       "2  55 faktorfaktor kualitas informasi pengaruh la...  \n",
       "3  jurnal ancang sistem kontrol frekuensi atur ce...  "
      ]
     },
     "execution_count": 11,
     "metadata": {},
     "output_type": "execute_result"
    }
   ],
   "source": [
    "df.head()"
   ]
  },
  {
   "cell_type": "code",
   "execution_count": 14,
   "id": "e9cb106b",
   "metadata": {},
   "outputs": [],
   "source": [
    "df.to_csv(\"data.csv\", index=False, header=True)"
   ]
  },
  {
   "cell_type": "code",
   "execution_count": 214,
   "id": "c4a7d207",
   "metadata": {},
   "outputs": [],
   "source": [
    "# \n",
    "vocabulary = set()\n",
    "\n",
    "for doc in df.text:\n",
    "    vocabulary.update(doc.split(' '))\n",
    "\n",
    "vocabulary = list(vocabulary)"
   ]
  },
  {
   "cell_type": "code",
   "execution_count": 217,
   "id": "829788e8",
   "metadata": {},
   "outputs": [],
   "source": [
    "# Intializating the tfIdf model\n",
    "tfidf = TfidfVectorizer(vocabulary=vocabulary,dtype=np.float32)\n",
    "\n",
    "# Fit the TfIdf model\n",
    "tfidf.fit(df.text)\n",
    "\n",
    "# Transform the TfIdf model\n",
    "tfidf_tran=tfidf.transform(df.text)\n",
    "\n",
    "# vectorizer = TfidfVectorizer()\n",
    "# vectorizer.fit(df.text)\n",
    "# skl_output = vectorizer.transform(vocabulary)\n",
    "\n",
    "# print(vectorizer.get_feature_names())\n"
   ]
  },
  {
   "cell_type": "code",
   "execution_count": 144,
   "id": "87e48bbc",
   "metadata": {},
   "outputs": [
    {
     "name": "stdout",
     "output_type": "stream",
     "text": [
      "[1.91629073 1.91629073 1.91629073 ... 1.51082562 1.91629073 1.51082562]\n",
      "  (0, 401)\t1.0\n"
     ]
    }
   ],
   "source": [
    "print(vectorizer.idf_)\n",
    "skl_output.shape\n",
    "\n",
    "print(skl_output[0])"
   ]
  },
  {
   "cell_type": "code",
   "execution_count": 25,
   "id": "4a78e9b9",
   "metadata": {},
   "outputs": [],
   "source": [
    "### Save model\n",
    "with open('./model/tfid.pkl','wb') as handle:\n",
    "    pickle.dump(tfidf_tran, handle)"
   ]
  },
  {
   "cell_type": "code",
   "execution_count": 19,
   "id": "143fd1c9",
   "metadata": {},
   "outputs": [],
   "source": [
    "### load model\n",
    "tfidf = pickle.load(open('./model/tfid.pkl','rb'))"
   ]
  },
  {
   "cell_type": "code",
   "execution_count": 26,
   "id": "f0fc5958",
   "metadata": {},
   "outputs": [],
   "source": [
    "### Save Vacabulary\n",
    "with open(\"./model/vocabulary.txt\", \"w\") as file:\n",
    "    file.write(str(vocabulary))"
   ]
  },
  {
   "cell_type": "code",
   "execution_count": 9,
   "id": "92bc72fc",
   "metadata": {},
   "outputs": [],
   "source": [
    "### load Vacabulary\n",
    "with open(\"./model/vocabulary.txt\", \"r\") as file:\n",
    "    vocabulary = eval(file.readline())"
   ]
  },
  {
   "cell_type": "code",
   "execution_count": 20,
   "id": "5710eebd",
   "metadata": {},
   "outputs": [
    {
     "ename": "AttributeError",
     "evalue": "transform not found",
     "output_type": "error",
     "traceback": [
      "\u001b[0;31m---------------------------------------------------------------------------\u001b[0m",
      "\u001b[0;31mAttributeError\u001b[0m                            Traceback (most recent call last)",
      "Input \u001b[0;32mIn [20]\u001b[0m, in \u001b[0;36m<cell line: 1>\u001b[0;34m()\u001b[0m\n\u001b[0;32m----> 1\u001b[0m tfidf_tran\u001b[38;5;241m=\u001b[39m\u001b[43mtfidf\u001b[49m\u001b[38;5;241;43m.\u001b[39;49m\u001b[43mtransform\u001b[49m(vocabulary)\n",
      "File \u001b[0;32m~/.local/lib/python3.9/site-packages/scipy/sparse/base.py:687\u001b[0m, in \u001b[0;36mspmatrix.__getattr__\u001b[0;34m(self, attr)\u001b[0m\n\u001b[1;32m    685\u001b[0m     \u001b[38;5;28;01mreturn\u001b[39;00m \u001b[38;5;28mself\u001b[39m\u001b[38;5;241m.\u001b[39mgetnnz()\n\u001b[1;32m    686\u001b[0m \u001b[38;5;28;01melse\u001b[39;00m:\n\u001b[0;32m--> 687\u001b[0m     \u001b[38;5;28;01mraise\u001b[39;00m \u001b[38;5;167;01mAttributeError\u001b[39;00m(attr \u001b[38;5;241m+\u001b[39m \u001b[38;5;124m\"\u001b[39m\u001b[38;5;124m not found\u001b[39m\u001b[38;5;124m\"\u001b[39m)\n",
      "\u001b[0;31mAttributeError\u001b[0m: transform not found"
     ]
    }
   ],
   "source": [
    "tfidf_tran=tfidf.transform(vocabulary)"
   ]
  },
  {
   "cell_type": "code",
   "execution_count": 10,
   "id": "524d8b39",
   "metadata": {},
   "outputs": [],
   "source": [
    "## Create vector for Query/search keywords\n",
    "def gen_vector_T(tokens):\n",
    "\n",
    "    Q = np.zeros((len(vocabulary)))\n",
    "        \n",
    "    x= tfidf.transform(tokens)\n",
    "    for token in tokens[0].split(','):\n",
    "        try:\n",
    "            ind = vocabulary.index(token)\n",
    "            Q[ind]  = x[0, tfidf.vocabulary_[token]]\n",
    "        except:\n",
    "            pass\n",
    "    return Q"
   ]
  },
  {
   "cell_type": "code",
   "execution_count": 11,
   "id": "3b89e141",
   "metadata": {},
   "outputs": [],
   "source": [
    "def cosine_sim(a, b):\n",
    "    cos_sim = np.dot(a, b)/(np.linalg.norm(a)*np.linalg.norm(b))\n",
    "    return cos_sim"
   ]
  },
  {
   "cell_type": "code",
   "execution_count": 12,
   "id": "82d47105",
   "metadata": {},
   "outputs": [],
   "source": [
    "def cosine_similarity_T(k, query):\n",
    "    #print(\"Cosine Similarity\")\n",
    "    preprocessed_query = preprocessed_query = preprocessing(query)\n",
    "    \n",
    "    tokens = tokenize(str(preprocessed_query))\n",
    "    \n",
    "    q_df = pd.DataFrame(columns=['text'])\n",
    "    q_df.loc[0,'text'] = ','.join(tokens)\n",
    "        \n",
    "    d_cosines = []\n",
    "        \n",
    "    query_vector = gen_vector_T(q_df['text'])\n",
    "            \n",
    "    for d in tfidf_tran.A:\n",
    "        d_cosines.append(cosine_sim(query_vector, d))\n",
    "                    \n",
    "    out = np.array(d_cosines).argsort()[-k:][::-1]\n",
    "    #print(\"\")\n",
    "    d_cosines.sort()\n",
    "    #print(out)\n",
    "    a = pd.DataFrame()\n",
    "    for i,index in enumerate(out):\n",
    "        a.loc[i,'index'] = str(index)\n",
    "        a.loc[i,'document'] = df['document'][index]\n",
    "    for j,simScore in enumerate(d_cosines[-k:][::-1]):\n",
    "        a.loc[j,'Score'] = simScore\n",
    "    return a"
   ]
  },
  {
   "cell_type": "code",
   "execution_count": 13,
   "id": "14511429",
   "metadata": {},
   "outputs": [
    {
     "name": "stdout",
     "output_type": "stream",
     "text": [
      "jurnal adu teknologi pemrograman langgan sistem\n"
     ]
    },
    {
     "ename": "AttributeError",
     "evalue": "transform not found",
     "output_type": "error",
     "traceback": [
      "\u001b[0;31m---------------------------------------------------------------------------\u001b[0m",
      "\u001b[0;31mAttributeError\u001b[0m                            Traceback (most recent call last)",
      "File \u001b[0;32m<timed eval>:1\u001b[0m, in \u001b[0;36m<module>\u001b[0;34m\u001b[0m\n",
      "Input \u001b[0;32mIn [12]\u001b[0m, in \u001b[0;36mcosine_similarity_T\u001b[0;34m(k, query)\u001b[0m\n\u001b[1;32m      8\u001b[0m q_df\u001b[38;5;241m.\u001b[39mloc[\u001b[38;5;241m0\u001b[39m,\u001b[38;5;124m'\u001b[39m\u001b[38;5;124mtext\u001b[39m\u001b[38;5;124m'\u001b[39m] \u001b[38;5;241m=\u001b[39m \u001b[38;5;124m'\u001b[39m\u001b[38;5;124m,\u001b[39m\u001b[38;5;124m'\u001b[39m\u001b[38;5;241m.\u001b[39mjoin(tokens)\n\u001b[1;32m     10\u001b[0m d_cosines \u001b[38;5;241m=\u001b[39m []\n\u001b[0;32m---> 12\u001b[0m query_vector \u001b[38;5;241m=\u001b[39m \u001b[43mgen_vector_T\u001b[49m\u001b[43m(\u001b[49m\u001b[43mq_df\u001b[49m\u001b[43m[\u001b[49m\u001b[38;5;124;43m'\u001b[39;49m\u001b[38;5;124;43mtext\u001b[39;49m\u001b[38;5;124;43m'\u001b[39;49m\u001b[43m]\u001b[49m\u001b[43m)\u001b[49m\n\u001b[1;32m     14\u001b[0m \u001b[38;5;28;01mfor\u001b[39;00m d \u001b[38;5;129;01min\u001b[39;00m tfidf_tran\u001b[38;5;241m.\u001b[39mA:\n\u001b[1;32m     15\u001b[0m     d_cosines\u001b[38;5;241m.\u001b[39mappend(cosine_sim(query_vector, d))\n",
      "Input \u001b[0;32mIn [10]\u001b[0m, in \u001b[0;36mgen_vector_T\u001b[0;34m(tokens)\u001b[0m\n\u001b[1;32m      2\u001b[0m \u001b[38;5;28;01mdef\u001b[39;00m \u001b[38;5;21mgen_vector_T\u001b[39m(tokens):\n\u001b[1;32m      4\u001b[0m     Q \u001b[38;5;241m=\u001b[39m np\u001b[38;5;241m.\u001b[39mzeros((\u001b[38;5;28mlen\u001b[39m(vocabulary)))\n\u001b[0;32m----> 6\u001b[0m     x\u001b[38;5;241m=\u001b[39m \u001b[43mtfidf\u001b[49m\u001b[38;5;241;43m.\u001b[39;49m\u001b[43mtransform\u001b[49m(tokens)\n\u001b[1;32m      7\u001b[0m     \u001b[38;5;28;01mfor\u001b[39;00m token \u001b[38;5;129;01min\u001b[39;00m tokens[\u001b[38;5;241m0\u001b[39m]\u001b[38;5;241m.\u001b[39msplit(\u001b[38;5;124m'\u001b[39m\u001b[38;5;124m,\u001b[39m\u001b[38;5;124m'\u001b[39m):\n\u001b[1;32m      8\u001b[0m         \u001b[38;5;28;01mtry\u001b[39;00m:\n",
      "File \u001b[0;32m~/.local/lib/python3.9/site-packages/scipy/sparse/base.py:687\u001b[0m, in \u001b[0;36mspmatrix.__getattr__\u001b[0;34m(self, attr)\u001b[0m\n\u001b[1;32m    685\u001b[0m     \u001b[38;5;28;01mreturn\u001b[39;00m \u001b[38;5;28mself\u001b[39m\u001b[38;5;241m.\u001b[39mgetnnz()\n\u001b[1;32m    686\u001b[0m \u001b[38;5;28;01melse\u001b[39;00m:\n\u001b[0;32m--> 687\u001b[0m     \u001b[38;5;28;01mraise\u001b[39;00m \u001b[38;5;167;01mAttributeError\u001b[39;00m(attr \u001b[38;5;241m+\u001b[39m \u001b[38;5;124m\"\u001b[39m\u001b[38;5;124m not found\u001b[39m\u001b[38;5;124m\"\u001b[39m)\n",
      "\u001b[0;31mAttributeError\u001b[0m: transform not found"
     ]
    }
   ],
   "source": [
    "%time cosine_similarity_T(5,'jurnal pengaduan teknologi pemrograman pelanggan sistem')"
   ]
  },
  {
   "cell_type": "code",
   "execution_count": 366,
   "id": "f86c50df",
   "metadata": {},
   "outputs": [
    {
     "data": {
      "text/plain": [
       "Text(0, 0.5, 'TF-IDF')"
      ]
     },
     "execution_count": 366,
     "metadata": {},
     "output_type": "execute_result"
    },
    {
     "data": {
      "image/png": "[encoded data removed]",
      "text/plain": [
       "<Figure size 720x432 with 1 Axes>"
      ]
     },
     "metadata": {
      "needs_background": "light"
     },
     "output_type": "display_data"
    }
   ],
   "source": [
    "# tfidf_tran.getrow(0).toarray().flatten()\n",
    "\n",
    "tfidf_vectorizer = TfidfVectorizer(use_idf =True)\n",
    "\n",
    "tfidf_matrix = tfidf_vectorizer.fit_transform(df.text.values)\n",
    "\n",
    "features = tfidf_vectorizer.get_feature_names()\n",
    "\n",
    "matrix = pd.Series(tfidf_matrix.getrow(1).toarray().flatten(),index = features).sort_values(ascending=False)\n",
    "\n",
    "tf_idf_plot = matrix[:20].plot(kind='bar', title='Bill Clinton Wikipedia Article Word TF-IDF Values',\n",
    "            figsize=(10,6), alpha=1, fontsize=14, rot=80,edgecolor='black', linewidth=2 )\n",
    "tf_idf_plot.title.set_size(18)\n",
    "tf_idf_plot.set_xlabel('WORDS')\n",
    "tf_idf_plot.set_ylabel('TF-IDF')"
   ]
  },
  {
   "cell_type": "code",
   "execution_count": 179,
   "id": "7d4a650a",
   "metadata": {},
   "outputs": [
    {
     "ename": "NameError",
     "evalue": "name 'tfs' is not defined",
     "output_type": "error",
     "traceback": [
      "\u001b[0;31m---------------------------------------------------------------------------\u001b[0m",
      "\u001b[0;31mNameError\u001b[0m                                 Traceback (most recent call last)",
      "Input \u001b[0;32mIn [179]\u001b[0m, in \u001b[0;36m<cell line: 1>\u001b[0;34m()\u001b[0m\n\u001b[0;32m----> 1\u001b[0m matrix \u001b[38;5;241m=\u001b[39m pd\u001b[38;5;241m.\u001b[39mSeries(\u001b[43mtfs\u001b[49m\u001b[38;5;241m.\u001b[39mgetrow(\u001b[38;5;241m0\u001b[39m)\u001b[38;5;241m.\u001b[39mtoarray()\u001b[38;5;241m.\u001b[39mflatten(),index \u001b[38;5;241m=\u001b[39m feature_names)\u001b[38;5;241m.\u001b[39msort_values(ascending\u001b[38;5;241m=\u001b[39m\u001b[38;5;28;01mFalse\u001b[39;00m)\n\u001b[1;32m      3\u001b[0m tf_idf_plot \u001b[38;5;241m=\u001b[39m matrix[:\u001b[38;5;241m20\u001b[39m]\u001b[38;5;241m.\u001b[39mplot(kind\u001b[38;5;241m=\u001b[39m\u001b[38;5;124m'\u001b[39m\u001b[38;5;124mbar\u001b[39m\u001b[38;5;124m'\u001b[39m, title\u001b[38;5;241m=\u001b[39m\u001b[38;5;124m'\u001b[39m\u001b[38;5;124mBill Clinton Wikipedia Article Word TF-IDF Values\u001b[39m\u001b[38;5;124m'\u001b[39m,\n\u001b[1;32m      4\u001b[0m             figsize\u001b[38;5;241m=\u001b[39m(\u001b[38;5;241m10\u001b[39m,\u001b[38;5;241m6\u001b[39m), alpha\u001b[38;5;241m=\u001b[39m\u001b[38;5;241m1\u001b[39m, fontsize\u001b[38;5;241m=\u001b[39m\u001b[38;5;241m14\u001b[39m, rot\u001b[38;5;241m=\u001b[39m\u001b[38;5;241m80\u001b[39m,edgecolor\u001b[38;5;241m=\u001b[39m\u001b[38;5;124m'\u001b[39m\u001b[38;5;124mblack\u001b[39m\u001b[38;5;124m'\u001b[39m, linewidth\u001b[38;5;241m=\u001b[39m\u001b[38;5;241m2\u001b[39m )\n\u001b[1;32m      5\u001b[0m tf_idf_plot\u001b[38;5;241m.\u001b[39mtitle\u001b[38;5;241m.\u001b[39mset_size(\u001b[38;5;241m18\u001b[39m)\n",
      "\u001b[0;31mNameError\u001b[0m: name 'tfs' is not defined"
     ]
    }
   ],
   "source": [
    "matrix = pd.Series(tfs.getrow(0).toarray().flatten(),index = feature_names).sort_values(ascending=False)\n",
    "\n",
    "tf_idf_plot = matrix[:20].plot(kind='bar', title='Bill Clinton Wikipedia Article Word TF-IDF Values',\n",
    "            figsize=(10,6), alpha=1, fontsize=14, rot=80,edgecolor='black', linewidth=2 )\n",
    "tf_idf_plot.title.set_size(18)\n",
    "tf_idf_plot.set_xlabel('WORDS')\n",
    "tf_idf_plot.set_ylabel('TF-IDF')"
   ]
  },
  {
   "cell_type": "code",
   "execution_count": null,
   "id": "cbd45651",
   "metadata": {},
   "outputs": [],
   "source": [
    "tfs.getrow(0)"
   ]
  },
  {
   "cell_type": "code",
   "execution_count": null,
   "id": "136bfb81",
   "metadata": {},
   "outputs": [],
   "source": [
    "#Number of neighbors to use by default is 5 that's why we dont give to knn_neighbours any parameter\n",
    "#weights: where  you detail if all points in each neighborhood are weighted equally or not.\n",
    "#algorithm:‘auto’, ‘ball_tree’, ‘kd_tree’, ‘brute\n",
    "#By default the distance that the algorithm uses is Mink\n",
    "#and so on. For further information take a look at scikit\n",
    "knn_neighbours = NearestNeighbors(n_neighbors=20)\n",
    "knn_neighbours.fit(tfs)\n",
    "#closest_friends returns a list of lists. Where the first one belongs to the distances and the second one to the rows\n",
    "closest_friends = knn_neighbours.kneighbors(tfs.getrow(0), return_distance=True)\n",
    "names_index = closest_friends[1][0]\n",
    "names = [people_wiki_df.iloc[row]['name'].encode('utf-8') for row in names_index]\n",
    "distances = closest_friends[0][0]\n",
    "#If it is the case, we delete the name that has distance zero.\n",
    "if distances[0]==0.0: distances,names = np.delete(distances,0),np.delete(names,0)\n",
    "data = pd.DataFrame({'Distances': distances,'Neighbours':names })\n",
    "sns.set_style(\"whitegrid\")\n",
    "sns.set_context(rc = {'figure.figsize':(11.7,8.27)},font_scale=1.5)\n",
    "closest_neighbours_to_bill = sns.barplot(x='Distances', y=\"Neighbours\", data= data ,linewidth=1,edgecolor=\".2\",palette=\"Blues\",saturation=1)\n",
    "closest_neighbours_to_bill.set_title('Closest neighbours to Bill')\n",
    "closest_neighbours_to_bill.set(xlabel='DISTANCES', ylabel='NEIGHBOURS')\n",
    "plt.show()"
   ]
  },
  {
   "cell_type": "code",
   "execution_count": null,
   "id": "5ed0cc93",
   "metadata": {},
   "outputs": [],
   "source": []
  }
 ],
 "metadata": {
  "interpreter": {
   "hash": "c6e4e9f98eb68ad3b7c296f83d20e6de614cb42e90992a65aa266555a3137d0d"
  },
  "kernelspec": {
   "display_name": "Python 3 (ipykernel)",
   "language": "python",
   "name": "python3"
  },
  "language_info": {
   "codemirror_mode": {
    "name": "ipython",
    "version": 3
   },
   "file_extension": ".py",
   "mimetype": "text/x-python",
   "name": "python",
   "nbconvert_exporter": "python",
   "pygments_lexer": "ipython3",
   "version": "3.9.12"
  }
 },
 "nbformat": 4,
 "nbformat_minor": 5
}
