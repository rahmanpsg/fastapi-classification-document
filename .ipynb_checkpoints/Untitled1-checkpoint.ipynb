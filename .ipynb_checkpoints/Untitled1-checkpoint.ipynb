{
 "cells": [
  {
   "cell_type": "code",
   "execution_count": 1,
   "id": "07295f33",
   "metadata": {},
   "outputs": [],
   "source": [
    "import numpy as np\n",
    "import pandas as pd\n",
    "import matplotlib.pyplot as plt\n",
    "import seaborn as sns\n",
    "\n",
    "import gensim\n",
    "from gensim.corpora.dictionary import Dictionary\n",
    "from gensim.models.tfidfmodel import TfidfModel\n",
    "from gensim.matutils import corpus2csc\n",
    "\n",
    "from sklearn.neighbors import NearestNeighbors\n",
    "from joblib import dump, load\n",
    "import re\n",
    "import string"
   ]
  },
  {
   "cell_type": "code",
   "execution_count": 2,
   "id": "f37f9233",
   "metadata": {},
   "outputs": [
    {
     "data": {
      "text/html": [
       "<div>\n",
       "<style scoped>\n",
       "    .dataframe tbody tr th:only-of-type {\n",
       "        vertical-align: middle;\n",
       "    }\n",
       "\n",
       "    .dataframe tbody tr th {\n",
       "        vertical-align: top;\n",
       "    }\n",
       "\n",
       "    .dataframe thead th {\n",
       "        text-align: right;\n",
       "    }\n",
       "</style>\n",
       "<table border=\"1\" class=\"dataframe\">\n",
       "  <thead>\n",
       "    <tr style=\"text-align: right;\">\n",
       "      <th></th>\n",
       "      <th>prodi</th>\n",
       "      <th>nim</th>\n",
       "      <th>nama</th>\n",
       "      <th>dokumen</th>\n",
       "    </tr>\n",
       "  </thead>\n",
       "  <tbody>\n",
       "    <tr>\n",
       "      <th>0</th>\n",
       "      <td>manajemen</td>\n",
       "      <td>215350030</td>\n",
       "      <td>Andi Adriani Paesal</td>\n",
       "      <td>1 jurnal economos feb um parepare pengaruh mot...</td>\n",
       "    </tr>\n",
       "    <tr>\n",
       "      <th>1</th>\n",
       "      <td>manajemen</td>\n",
       "      <td>215350034</td>\n",
       "      <td>Riskianti</td>\n",
       "      <td>efektivitas profitabilitas guna modal kerja pa...</td>\n",
       "    </tr>\n",
       "    <tr>\n",
       "      <th>2</th>\n",
       "      <td>manajemen</td>\n",
       "      <td>215350007</td>\n",
       "      <td>Iis Faradillah</td>\n",
       "      <td>1 jurnal economos feb um parepare draft templa...</td>\n",
       "    </tr>\n",
       "    <tr>\n",
       "      <th>3</th>\n",
       "      <td>manajemen</td>\n",
       "      <td>215350015</td>\n",
       "      <td>Ardiyanto</td>\n",
       "      <td>1 jurnal economos feb um parepare pengaruh bia...</td>\n",
       "    </tr>\n",
       "    <tr>\n",
       "      <th>4</th>\n",
       "      <td>pembangunan</td>\n",
       "      <td>213210027</td>\n",
       "      <td>Junaedi</td>\n",
       "      <td>evaluasi kerja badan rencana bangun daerah bap...</td>\n",
       "    </tr>\n",
       "  </tbody>\n",
       "</table>\n",
       "</div>"
      ],
      "text/plain": [
       "         prodi        nim                 nama  \\\n",
       "0    manajemen  215350030  Andi Adriani Paesal   \n",
       "1    manajemen  215350034            Riskianti   \n",
       "2    manajemen  215350007       Iis Faradillah   \n",
       "3    manajemen  215350015            Ardiyanto   \n",
       "4  pembangunan  213210027              Junaedi   \n",
       "\n",
       "                                             dokumen  \n",
       "0  1 jurnal economos feb um parepare pengaruh mot...  \n",
       "1  efektivitas profitabilitas guna modal kerja pa...  \n",
       "2  1 jurnal economos feb um parepare draft templa...  \n",
       "3  1 jurnal economos feb um parepare pengaruh bia...  \n",
       "4  evaluasi kerja badan rencana bangun daerah bap...  "
      ]
     },
     "execution_count": 2,
     "metadata": {},
     "output_type": "execute_result"
    }
   ],
   "source": [
    "df = pd.read_csv(\"data.csv\")\n",
    "\n",
    "df.head()"
   ]
  },
  {
   "cell_type": "code",
   "execution_count": 3,
   "id": "bf1dbddb",
   "metadata": {},
   "outputs": [],
   "source": [
    "## fungsi untuk menghapus url didalam teks\n",
    "def remove_URL(text):\n",
    "    url = re.compile(r\"https?://\\S+|www\\.\\S+\")\n",
    "    return url.sub(r\"\",text)\n",
    "\n",
    "## fungsi untuk menghapus tanda baca didalam teks\n",
    "def remove_punct(text):\n",
    "    translator = str.maketrans(\"\", \"\", string.punctuation)\n",
    "    return text.translate(translator)\n",
    "\n",
    "## fungsi untuk mengubah teks menjadi huruf kecil\n",
    "def case_folding(text):\n",
    "    return text.casefold()\n",
    "\n",
    "## stopwords\n",
    "from Sastrawi.StopWordRemover.StopWordRemoverFactory import StopWordRemoverFactory\n",
    "\n",
    "stopwords = StopWordRemoverFactory().create_stop_word_remover()\n",
    "\n",
    "def remove_stopwords(text):\n",
    "    return stopwords.remove(text)\n",
    "\n",
    "## stemming\n",
    "from Sastrawi.Stemmer.StemmerFactory import StemmerFactory\n",
    "\n",
    "stemmer = StemmerFactory().create_stemmer()\n",
    "\n",
    "def stemming(text):\n",
    "    return stemmer.stem(text)\n",
    "\n",
    "def preprocessing(text):\n",
    "    text = remove_URL(text)\n",
    "    text = remove_punct(text)\n",
    "    text = case_folding(text)\n",
    "    text = remove_stopwords(text)\n",
    "    text = stemming(text)\n",
    "\n",
    "    print(text)\n",
    "    return text"
   ]
  },
  {
   "cell_type": "code",
   "execution_count": 4,
   "id": "2ba77716",
   "metadata": {},
   "outputs": [
    {
     "name": "stderr",
     "output_type": "stream",
     "text": [
      "/opt/miniconda3/lib/python3.9/site-packages/tqdm/auto.py:22: TqdmWarning: IProgress not found. Please update jupyter and ipywidgets. See https://ipywidgets.readthedocs.io/en/stable/user_install.html\n",
      "  from .autonotebook import tqdm as notebook_tqdm\n"
     ]
    }
   ],
   "source": [
    "from tqdm.auto import tqdm as tqdmp\n",
    "tqdmp.pandas()\n",
    "import re, unicodedata, string"
   ]
  },
  {
   "cell_type": "code",
   "execution_count": 5,
   "id": "532f91db",
   "metadata": {},
   "outputs": [],
   "source": [
    "def text_cleaner(text):\n",
    "    \"\"\"\n",
    "    Function for cleaning text data from unnecessary characters.\n",
    "    \"\"\"\n",
    "    text = text.lower()\n",
    "    text = unicodedata.normalize('NFKD', text).encode('ascii', 'ignore').decode('utf-8', 'ignore')\n",
    "    text = re.sub('\\[.*?\\]', ' ', text)\n",
    "    text = re.sub('https?://\\S+|www\\.\\S+', '', text)\n",
    "    text = re.sub('<.*?>+', '', text)\n",
    "    text = re.sub('[%s]' % re.escape(string.punctuation), '', text)\n",
    "    text = re.sub('\\n', ' ', text)\n",
    "    text = re.sub('\\r', '', text)\n",
    "    text = re.sub('\\w*\\d\\w*', '', text)\n",
    "    return text"
   ]
  },
  {
   "cell_type": "code",
   "execution_count": 6,
   "id": "48cb7dae",
   "metadata": {},
   "outputs": [
    {
     "name": "stderr",
     "output_type": "stream",
     "text": [
      "100%|██████| 71/71 [00:00<00:00, 338.42it/s]\n"
     ]
    },
    {
     "data": {
      "text/plain": [
       "0    [jurnal, economos, feb, um, parepare, pengaruh...\n",
       "1    [efektivitas, profitabilitas, guna, modal, ker...\n",
       "2    [jurnal, economos, feb, um, parepare, draft, t...\n",
       "3    [jurnal, economos, feb, um, parepare, pengaruh...\n",
       "4    [evaluasi, kerja, badan, rencana, bangun, daer...\n",
       "Name: dokumen, dtype: object"
      ]
     },
     "execution_count": 6,
     "metadata": {},
     "output_type": "execute_result"
    }
   ],
   "source": [
    "dokumen_cleaned = df.dokumen.dropna().reset_index(drop = True)\n",
    "dokumen_cleaned = dokumen_cleaned.progress_apply(lambda x: text_cleaner(x).split())\n",
    "dokumen_cleaned.head()"
   ]
  },
  {
   "cell_type": "code",
   "execution_count": 8,
   "id": "59f25109",
   "metadata": {},
   "outputs": [],
   "source": [
    "dictionary = Dictionary(dokumen_cleaned)\n",
    "num_docs = dictionary.num_docs\n",
    "num_terms = len(dictionary.keys())"
   ]
  },
  {
   "cell_type": "code",
   "execution_count": 9,
   "id": "349d074c",
   "metadata": {},
   "outputs": [],
   "source": [
    "# the bag of words corpus\n",
    "corpus_bow = [dictionary.doc2bow(doc) for doc in dokumen_cleaned]"
   ]
  },
  {
   "cell_type": "code",
   "execution_count": 10,
   "id": "6c884f56",
   "metadata": {},
   "outputs": [],
   "source": [
    "tfidf = TfidfModel(corpus_bow)\n",
    "corpus_tfidf = tfidf[corpus_bow]"
   ]
  },
  {
   "cell_type": "code",
   "execution_count": 11,
   "id": "e2f9bed0",
   "metadata": {},
   "outputs": [],
   "source": [
    "corpus_tfidf_sparse = corpus2csc(corpus_tfidf, num_terms, num_docs=num_docs).T"
   ]
  },
  {
   "cell_type": "code",
   "execution_count": 12,
   "id": "af3620a9",
   "metadata": {},
   "outputs": [
    {
     "data": {
      "text/plain": [
       "NearestNeighbors(n_jobs=-1)"
      ]
     },
     "execution_count": 12,
     "metadata": {},
     "output_type": "execute_result"
    }
   ],
   "source": [
    "model = NearestNeighbors(n_neighbors = 5, n_jobs=-1)\n",
    "model.fit(corpus_tfidf_sparse)"
   ]
  },
  {
   "cell_type": "code",
   "execution_count": 20,
   "id": "87126c2a",
   "metadata": {},
   "outputs": [],
   "source": [
    "test_dokumen =[ [\"jurnal daya kwh meter komunikasi\"]]\n",
    "# test_dokumen.iloc[0] = ['halo'] + test_dokumen.iloc[0]\n",
    "# test_dokumen.iloc[1] = ['bagus'] + test_dokumen.iloc[1]\n",
    "# test_dokumen.head()"
   ]
  },
  {
   "cell_type": "code",
   "execution_count": 21,
   "id": "1b460746",
   "metadata": {},
   "outputs": [
    {
     "ename": "TypeError",
     "evalue": "doc2bow expects an array of unicode tokens on input, not a single string",
     "output_type": "error",
     "traceback": [
      "\u001b[0;31m---------------------------------------------------------------------------\u001b[0m",
      "\u001b[0;31mTypeError\u001b[0m                                 Traceback (most recent call last)",
      "Input \u001b[0;32mIn [21]\u001b[0m, in \u001b[0;36m<cell line: 2>\u001b[0;34m()\u001b[0m\n\u001b[1;32m      1\u001b[0m \u001b[38;5;66;03m# test corpus from created dictionary\u001b[39;00m\n\u001b[0;32m----> 2\u001b[0m test_corpus_bow \u001b[38;5;241m=\u001b[39m [dictionary\u001b[38;5;241m.\u001b[39mdoc2bow(doc) \u001b[38;5;28;01mfor\u001b[39;00m doc \u001b[38;5;129;01min\u001b[39;00m test_dokumen]\n\u001b[1;32m      4\u001b[0m \u001b[38;5;66;03m# test tfidf values from created tfidf model\u001b[39;00m\n\u001b[1;32m      5\u001b[0m test_corpus_tfidf \u001b[38;5;241m=\u001b[39m tfidf[test_corpus_bow]\n",
      "Input \u001b[0;32mIn [21]\u001b[0m, in \u001b[0;36m<listcomp>\u001b[0;34m(.0)\u001b[0m\n\u001b[1;32m      1\u001b[0m \u001b[38;5;66;03m# test corpus from created dictionary\u001b[39;00m\n\u001b[0;32m----> 2\u001b[0m test_corpus_bow \u001b[38;5;241m=\u001b[39m [\u001b[43mdictionary\u001b[49m\u001b[38;5;241;43m.\u001b[39;49m\u001b[43mdoc2bow\u001b[49m\u001b[43m(\u001b[49m\u001b[43mdoc\u001b[49m\u001b[43m)\u001b[49m \u001b[38;5;28;01mfor\u001b[39;00m doc \u001b[38;5;129;01min\u001b[39;00m test_dokumen]\n\u001b[1;32m      4\u001b[0m \u001b[38;5;66;03m# test tfidf values from created tfidf model\u001b[39;00m\n\u001b[1;32m      5\u001b[0m test_corpus_tfidf \u001b[38;5;241m=\u001b[39m tfidf[test_corpus_bow]\n",
      "File \u001b[0;32m~/.local/lib/python3.9/site-packages/gensim/corpora/dictionary.py:241\u001b[0m, in \u001b[0;36mDictionary.doc2bow\u001b[0;34m(self, document, allow_update, return_missing)\u001b[0m\n\u001b[1;32m    209\u001b[0m \u001b[38;5;124;03m\"\"\"Convert `document` into the bag-of-words (BoW) format = list of `(token_id, token_count)` tuples.\u001b[39;00m\n\u001b[1;32m    210\u001b[0m \n\u001b[1;32m    211\u001b[0m \u001b[38;5;124;03mParameters\u001b[39;00m\n\u001b[0;32m   (...)\u001b[0m\n\u001b[1;32m    238\u001b[0m \n\u001b[1;32m    239\u001b[0m \u001b[38;5;124;03m\"\"\"\u001b[39;00m\n\u001b[1;32m    240\u001b[0m \u001b[38;5;28;01mif\u001b[39;00m \u001b[38;5;28misinstance\u001b[39m(document, \u001b[38;5;28mstr\u001b[39m):\n\u001b[0;32m--> 241\u001b[0m     \u001b[38;5;28;01mraise\u001b[39;00m \u001b[38;5;167;01mTypeError\u001b[39;00m(\u001b[38;5;124m\"\u001b[39m\u001b[38;5;124mdoc2bow expects an array of unicode tokens on input, not a single string\u001b[39m\u001b[38;5;124m\"\u001b[39m)\n\u001b[1;32m    243\u001b[0m \u001b[38;5;66;03m# Construct (word, frequency) mapping.\u001b[39;00m\n\u001b[1;32m    244\u001b[0m counter \u001b[38;5;241m=\u001b[39m defaultdict(\u001b[38;5;28mint\u001b[39m)\n",
      "\u001b[0;31mTypeError\u001b[0m: doc2bow expects an array of unicode tokens on input, not a single string"
     ]
    }
   ],
   "source": [
    "# test corpus from created dictionary\n",
    "test_corpus_bow = [dictionary.doc2bow(doc) for doc in test_dokumen]\n",
    "\n",
    "# test tfidf values from created tfidf model\n",
    "test_corpus_tfidf = tfidf[test_corpus_bow]\n",
    "\n",
    "# test sparse matrix\n",
    "test_corpus_tfidf_sparse = corpus2csc(test_corpus_tfidf, num_terms).T\n",
    "test_corpus_tfidf_sparse"
   ]
  },
  {
   "cell_type": "code",
   "execution_count": 16,
   "id": "b95cd281",
   "metadata": {},
   "outputs": [
    {
     "data": {
      "text/plain": [
       "(array([[0.        , 1.21541621, 1.28905984, 1.32089544, 1.3442157 ],\n",
       "        [0.00854718, 1.24147353, 1.2734199 , 1.29504769, 1.31176078]]),\n",
       " array([[ 2,  0,  9, 48, 51],\n",
       "        [ 3,  0, 29, 11,  9]]))"
      ]
     },
     "execution_count": 16,
     "metadata": {},
     "output_type": "execute_result"
    }
   ],
   "source": [
    "res = model.kneighbors(test_corpus_tfidf_sparse)\n",
    "res"
   ]
  },
  {
   "cell_type": "code",
   "execution_count": null,
   "id": "ad77fd23",
   "metadata": {},
   "outputs": [],
   "source": []
  }
 ],
 "metadata": {
  "kernelspec": {
   "display_name": "Python 3 (ipykernel)",
   "language": "python",
   "name": "python3"
  },
  "language_info": {
   "codemirror_mode": {
    "name": "ipython",
    "version": 3
   },
   "file_extension": ".py",
   "mimetype": "text/x-python",
   "name": "python",
   "nbconvert_exporter": "python",
   "pygments_lexer": "ipython3",
   "version": "3.9.12"
  }
 },
 "nbformat": 4,
 "nbformat_minor": 5
}
